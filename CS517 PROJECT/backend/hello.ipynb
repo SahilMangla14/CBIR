{
 "cells": [
  {
   "cell_type": "code",
   "execution_count": 1,
   "metadata": {},
   "outputs": [],
   "source": [
    "import cv2\n",
    "import numpy as np\n",
    "import os\n",
    "from sklearn.metrics import pairwise\n",
    "from sklearn.preprocessing import MinMaxScaler\n"
   ]
  },
  {
   "cell_type": "code",
   "execution_count": 35,
   "metadata": {},
   "outputs": [
    {
     "name": "stdout",
     "output_type": "stream",
     "text": [
      "mango\n",
      "orange\n",
      "7\n"
     ]
    }
   ],
   "source": [
    "dataset_path = \"./database\"\n",
    "dataset_images = []\n",
    "\n",
    "for filename in os.listdir(dataset_path):\n",
    "    print(filename)\n",
    "    for files in os.listdir(os.path.join(dataset_path, filename)):\n",
    "        img = cv2.imread(os.path.join(dataset_path, filename, files))\n",
    "        img=cv2.resize(img, (500,500))\n",
    "        dataset_images.append(img)\n",
    "\n",
    "\n",
    "print(len(dataset_images))"
   ]
  },
  {
   "cell_type": "code",
   "execution_count": 21,
   "metadata": {},
   "outputs": [],
   "source": [
    "def extract_color_features(image):\n",
    "    # Convert the image to the HSV color space\n",
    "    hsv_image = cv2.cvtColor(image, cv2.COLOR_BGR2HSV)\n",
    "    \n",
    "    # Define the ranges of the histogram bins for each channel\n",
    "    h_ranges = s_ranges = v_ranges = [0, 256]\n",
    "    \n",
    "    # Compute the color histograms for each channel\n",
    "    h_hist = cv2.calcHist([hsv_image], [0], None, [256], h_ranges)\n",
    "    s_hist = cv2.calcHist([hsv_image], [1], None, [256], s_ranges)\n",
    "    v_hist = cv2.calcHist([hsv_image], [2], None, [256], v_ranges)\n",
    "    \n",
    "    # Normalize the histograms to have a maximum value of 1\n",
    "    cv2.normalize(h_hist, h_hist, alpha=0, beta=1, norm_type=cv2.NORM_MINMAX)\n",
    "    cv2.normalize(s_hist, s_hist, alpha=0, beta=1, norm_type=cv2.NORM_MINMAX)\n",
    "    cv2.normalize(v_hist, v_hist, alpha=0, beta=1, norm_type=cv2.NORM_MINMAX)\n",
    "    \n",
    "    # Concatenate the histograms into a single feature vector\n",
    "    features = np.concatenate((h_hist, s_hist, v_hist)).flatten()\n",
    "    \n",
    "    return features"
   ]
  },
  {
   "cell_type": "code",
   "execution_count": 4,
   "metadata": {},
   "outputs": [],
   "source": [
    "def compute_similarity(query_features, dataset_features):\n",
    "    scaler = MinMaxScaler()\n",
    "    dataset_features = scaler.fit_transform(dataset_features)\n",
    "    query_features = scaler.transform(query_features.reshape(1, -1))\n",
    "\n",
    "    dists = pairwise.euclidean_distances(query_features, dataset_features)\n",
    "    return dists.flatten()\n",
    "\n"
   ]
  },
  {
   "cell_type": "code",
   "execution_count": 5,
   "metadata": {},
   "outputs": [],
   "source": [
    "def perform_query(query_image, dataset_images, K=10):\n",
    "    # Extract the color features of the query image\n",
    "    query_features = extract_color_features(query_image)\n",
    "    \n",
    "    # Extract the color features of all the images in the dataset\n",
    "    dataset_features = [extract_color_features(img) for img in dataset_images]\n",
    "    \n",
    "    # Compute the similarity between the query image and all the images in the dataset\n",
    "    similarities = compute_similarity(query_features, dataset_features)\n",
    "    \n",
    "    # Sort the images in the dataset by their similarity to the query image\n",
    "    indices = np.argsort(similarities)\n",
    "    \n",
    "    # Return the top K results\n",
    "    return indices[:K]\n"
   ]
  },
  {
   "cell_type": "code",
   "execution_count": 32,
   "metadata": {},
   "outputs": [],
   "source": [
    "# Load the query image\n",
    "query_image = cv2.imread(\"query.jpeg\")\n"
   ]
  },
  {
   "cell_type": "code",
   "execution_count": 36,
   "metadata": {},
   "outputs": [],
   "source": [
    "\n",
    "\n",
    "# Extract the color features of the query image\n",
    "query_features = extract_color_features(query_image)\n",
    "\n",
    "# Extract the color features of all the images in the dataset\n",
    "dataset_features = [extract_color_features(img) for img in dataset_images]\n",
    "\n",
    "# Compute the similarity between the query image and all the images in the dataset\n",
    "similarities = compute_similarity(query_features, dataset_features)\n",
    "\n",
    "# Sort the images in the dataset by their similarity to the query image\n",
    "indices = np.argsort(similarities)\n",
    "\n",
    "cv2.imshow(\"input\", query_image)\n",
    "# Show the top K results\n",
    "K = 4\n",
    "for i in range(K):\n",
    "    result_image = dataset_images[indices[i]]\n",
    "    cv2.imshow(f\"Result {i+1}\", result_image)\n",
    "    \n",
    "cv2.waitKey(0)\n",
    "cv2.destroyAllWindows()\n"
   ]
  }
 ],
 "metadata": {
  "kernelspec": {
   "display_name": "Python 3",
   "language": "python",
   "name": "python3"
  },
  "language_info": {
   "codemirror_mode": {
    "name": "ipython",
    "version": 3
   },
   "file_extension": ".py",
   "mimetype": "text/x-python",
   "name": "python",
   "nbconvert_exporter": "python",
   "pygments_lexer": "ipython3",
   "version": "3.8.0"
  },
  "orig_nbformat": 4
 },
 "nbformat": 4,
 "nbformat_minor": 2
}
