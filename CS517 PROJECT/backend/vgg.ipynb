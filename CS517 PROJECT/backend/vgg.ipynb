{
 "cells": [
  {
   "cell_type": "code",
   "execution_count": 1,
   "metadata": {},
   "outputs": [],
   "source": [
    "import numpy as np\n",
    "import os\n",
    "import cv2\n",
    "from tensorflow.keras.applications.vgg16 import VGG16, preprocess_input"
   ]
  },
  {
   "cell_type": "code",
   "execution_count": 2,
   "metadata": {},
   "outputs": [],
   "source": [
    "model = VGG16(weights='imagenet', include_top=False)\n"
   ]
  },
  {
   "cell_type": "code",
   "execution_count": 3,
   "metadata": {},
   "outputs": [],
   "source": [
    "def extract_features(img_path, model):\n",
    "    img = cv2.imread(img_path)\n",
    "    img = cv2.resize(img, (224, 224))\n",
    "    img = np.expand_dims(img, axis=0)\n",
    "    img = preprocess_input(img)\n",
    "    features = model.predict(img)\n",
    "    features = features.reshape((-1,))\n",
    "    return features\n"
   ]
  },
  {
   "cell_type": "code",
   "execution_count": 4,
   "metadata": {},
   "outputs": [],
   "source": [
    "def retrieve_similar_images(query_path, dataset_path, model, top_k=5):\n",
    "    query_features = extract_features(query_path, model)\n",
    "    dataset_files = os.listdir(dataset_path)\n",
    "    similarities = []\n",
    "    for foldername in dataset_files:\n",
    "        for files in os.listdir(os.path.join(dataset_path, foldername)):\n",
    "            filepath = os.path.join(dataset_path, foldername, files)\n",
    "            features = extract_features(filepath, model)\n",
    "            similarity = np.dot(query_features, features) / (np.linalg.norm(query_features) * np.linalg.norm(features))\n",
    "            similarities.append((filepath, similarity))\n",
    "    similarities.sort(key=lambda x: x[1], reverse=True)\n",
    "    top_k_results = similarities[:top_k]\n",
    "    return top_k_results\n"
   ]
  },
  {
   "cell_type": "code",
   "execution_count": 5,
   "metadata": {},
   "outputs": [
    {
     "name": "stdout",
     "output_type": "stream",
     "text": [
      "1/1 [==============================] - 0s 467ms/step\n",
      "1/1 [==============================] - 0s 164ms/step\n",
      "1/1 [==============================] - 0s 156ms/step\n",
      "1/1 [==============================] - 0s 195ms/step\n",
      "1/1 [==============================] - 0s 157ms/step\n",
      "1/1 [==============================] - 0s 147ms/step\n",
      "1/1 [==============================] - 0s 206ms/step\n",
      "1/1 [==============================] - 0s 166ms/step\n",
      "1/1 [==============================] - 0s 147ms/step\n",
      "1/1 [==============================] - 0s 192ms/step\n",
      "1/1 [==============================] - 0s 162ms/step\n",
      "1/1 [==============================] - 0s 148ms/step\n"
     ]
    }
   ],
   "source": [
    "query_path = 'query.jpeg'\n",
    "dataset_path = 'dataset'\n",
    "top_k = 5\n",
    "results = retrieve_similar_images(query_path, dataset_path, model, top_k)"
   ]
  },
  {
   "cell_type": "code",
   "execution_count": 6,
   "metadata": {},
   "outputs": [
    {
     "name": "stdout",
     "output_type": "stream",
     "text": [
      "Top 5 most similar images to query.jpeg:\n"
     ]
    }
   ],
   "source": [
    "\n",
    "# print(results)\n",
    "print(f'Top {top_k} most similar images to {query_path}:')\n",
    "i=1\n",
    "for filename, similarity in results:\n",
    "    img=cv2.imread(filename)\n",
    "    cv2.imshow(f\"match{i}\", img)\n",
    "    i+=1\n",
    "cv2.waitKey(0)\n",
    "cv2.destroyAllWindows()\n"
   ]
  },
  {
   "cell_type": "code",
   "execution_count": null,
   "metadata": {},
   "outputs": [],
   "source": []
  }
 ],
 "metadata": {
  "kernelspec": {
   "display_name": "Python 3",
   "language": "python",
   "name": "python3"
  },
  "language_info": {
   "codemirror_mode": {
    "name": "ipython",
    "version": 3
   },
   "file_extension": ".py",
   "mimetype": "text/x-python",
   "name": "python",
   "nbconvert_exporter": "python",
   "pygments_lexer": "ipython3",
   "version": "3.11.1"
  },
  "orig_nbformat": 4
 },
 "nbformat": 4,
 "nbformat_minor": 2
}
